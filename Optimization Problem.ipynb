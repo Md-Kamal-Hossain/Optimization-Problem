{
 "cells": [
  {
   "cell_type": "code",
   "execution_count": null,
   "metadata": {},
   "outputs": [],
   "source": [
    "# -*- coding: utf-8 -*-\n",
    "\"\"\"\n",
    "Created on Tue Jun 27 23:20:22 2017\n",
    "\n",
    "@author: HP Pavilion\n",
    "\"\"\"\n",
    "\n",
    "from scipy.optimize import minimize\n",
    "import numpy as np\n",
    "import pandas as pd\n",
    "import itertools\n",
    "import math\n",
    "import csv\n",
    "with open('dengue.csv', 'r') as f:\n",
    "    reader = csv.reader(f)\n",
    "    your_list = list(reader)\n",
    "your_list = list(itertools.chain.from_iterable(your_list))\n",
    "Idata = list(map(float, your_list))\n",
    "#float(Idata)\n",
    "Idata = Idata[0:100]\n",
    "#print Idata\n",
    "\n",
    "mu     = 1.0/(65*12*4)\n",
    "gamma  = 1/3\n",
    "n      = len(Idata)\n",
    "t   = n #specify by your need\n",
    "h      = t/n\n",
    "N      = 21000000\n",
    "func   = lambda y: (h/2)*(   (y[0] - Idata[0])**2 + 2*sum((y[1:n-2] - Idata[1:n-2])**2) + (y[n-1] - Idata[n-1])**2    )\n",
    "y0     = 3 + np.zeros(3*n-1)\n",
    "\n",
    "\n",
    "cons = ({'type': 'eq', 'fun': lambda y:  -np.asarray(y[1:n-1]) + np.asarray(y[0:n-2]) + (h/2)*( np.asarray([y(2*n)]+[y(2*n+1)*math.cos(math.y(2*n+2)*t[0:n-2])])*(N - np.asarray(y[0:n-2]) - np.asarray(y[n:2*n-2]))*np.asarray(y[0:n-2])/(2*gamma*N +np.asarray(y[0:n-2]) )- (gamma+mu)*np.asarray(y[0:n-2]) + np.asarray([y(2*n)]+[y(2*n+1)*math.cos(math.y(2*n+2)*t[1:n-1])])*(N - np.asarray(y[1:n-1]) - np.asarray(y[n+1:2*n-1]))*np.asarray(y[1:n-1])/(2*gamma*N +np.asarray(y[1:n-1])) - (gamma+mu)*np.asarray(y[1:n-1]) )},\n",
    "        {'type': 'eq', 'fun': lambda y:  -np.asarray(y[n+1:2*n-1]) + np.asarray(y[n:2*n-2]) + (h/2)*( gamma*np.asarray(y[0:n-2]) - mu*np.asarray(y[n:2*n-2]) + gamma*np.asarray(y[1:n-1]) - mu*np.asarray(y[n+1:2*n-1])) },\n",
    "        {'type': 'eq', 'fun': lambda y:   np.asarray(y[0])-Idata[0] }),     \n",
    "      \n",
    "\n",
    "\n",
    "res = minimize(func, y0, method='SLSQP', constraints=cons)\n",
    "z   = res.x\n",
    "\n",
    "I   = z[0:n]\n",
    "beta= z[2*n:3*n-1]\n",
    "\n",
    "plt.plot(Idata,'k')\n",
    "plt.plot(I,'b')\n",
    "plt.show()\n",
    "\n",
    "plt.plot(beta,'b')\n",
    "plt.show()"
   ]
  },
  {
   "cell_type": "code",
   "execution_count": null,
   "metadata": {},
   "outputs": [],
   "source": []
  }
 ],
 "metadata": {
  "kernelspec": {
   "display_name": "Python 3",
   "language": "python",
   "name": "python3"
  },
  "language_info": {
   "codemirror_mode": {
    "name": "ipython",
    "version": 3
   },
   "file_extension": ".py",
   "mimetype": "text/x-python",
   "name": "python",
   "nbconvert_exporter": "python",
   "pygments_lexer": "ipython3",
   "version": "3.7.1"
  }
 },
 "nbformat": 4,
 "nbformat_minor": 2
}
